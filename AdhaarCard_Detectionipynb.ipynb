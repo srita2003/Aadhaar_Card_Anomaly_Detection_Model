{
  "cells": [
    {
      "cell_type": "markdown",
      "metadata": {
        "id": "view-in-github",
        "colab_type": "text"
      },
      "source": [
        "<a href=\"https://colab.research.google.com/github/srita2003/Aadhaar_Card_Anomaly_Detection_Model/blob/main/AdhaarCard_Detectionipynb.ipynb\" target=\"_parent\"><img src=\"https://colab.research.google.com/assets/colab-badge.svg\" alt=\"Open In Colab\"/></a>"
      ]
    },
    {
      "cell_type": "code",
      "execution_count": null,
      "metadata": {
        "id": "ZKhtfI2rM241"
      },
      "outputs": [],
      "source": [
        "from google.colab import drive\n",
        "drive.mount('/content/drive')"
      ]
    },
    {
      "cell_type": "code",
      "execution_count": null,
      "metadata": {
        "collapsed": true,
        "id": "ERSakuk0NaNj"
      },
      "outputs": [],
      "source": [
        "!pip install pytesseract opencv-python-headless\n",
        "!pip install easyocr\n",
        "!pip install face_recognition\n",
        "!pip install scikit-learn"
      ]
    },
    {
      "cell_type": "code",
      "execution_count": null,
      "metadata": {
        "id": "-q7ErnYMMVRT"
      },
      "outputs": [],
      "source": [
        "import io\n",
        "import re\n",
        "import cv2\n",
        "import numpy as np\n",
        "import matplotlib.pyplot as plt\n",
        "from PIL import Image, ImageEnhance\n",
        "import easyocr\n",
        "import tensorflow as tf\n",
        "from tensorflow.keras import layers, models, regularizers, callbacks\n",
        "from tensorflow.keras.preprocessing.image import ImageDataGenerator\n",
        "from google.colab import files\n",
        "from skimage.metrics import structural_similarity as ssim\n",
        "import face_recognition\n",
        "import os\n",
        "from sklearn.metrics import precision_score, recall_score, f1_score, roc_auc_score, roc_curve, auc,classification_report, confusion_matrix\n",
        "import pandas as pd"
      ]
    },
    {
      "cell_type": "code",
      "execution_count": null,
      "metadata": {
        "collapsed": true,
        "id": "yD1NMBV6Mgk5"
      },
      "outputs": [],
      "source": [
        "dataset_path = \"/content/drive/MyDrive/adhaar\"\n",
        "\n",
        "img_height, img_width = 256, 256\n",
        "batch_size = 32\n",
        "epochs = 100\n",
        "\n",
        "datagen = ImageDataGenerator(\n",
        "    rotation_range=15,\n",
        "    width_shift_range=0.1,\n",
        "    height_shift_range=0.1,\n",
        "    shear_range=0.1,\n",
        "    zoom_range=0.1,\n",
        "    horizontal_flip=True,\n",
        "    fill_mode='nearest',\n",
        "    rescale=1./255,\n",
        "    validation_split=0.2\n",
        ")\n",
        "\n",
        "\n",
        "train_generator = datagen.flow_from_directory(\n",
        "    dataset_path,\n",
        "    target_size=(img_height, img_width),\n",
        "    batch_size=batch_size,\n",
        "    class_mode='binary',\n",
        "    subset='training'\n",
        ")\n",
        "\n",
        "validation_generator = datagen.flow_from_directory(\n",
        "    dataset_path,\n",
        "    target_size=(img_height, img_width),\n",
        "    batch_size=batch_size,\n",
        "    class_mode='binary',\n",
        "    subset='validation'\n",
        ")\n",
        "\n",
        "\n",
        "model = models.Sequential([\n",
        "    layers.Conv2D(32, (3, 3), activation='relu', input_shape=(img_height, img_width, 3)),\n",
        "    layers.MaxPooling2D((2, 2)),\n",
        "    layers.Conv2D(64, (3, 3), activation='relu'),\n",
        "    layers.MaxPooling2D((2, 2)),\n",
        "    layers.Conv2D(128, (3, 3), activation='relu'),\n",
        "    layers.MaxPooling2D((2, 2)),\n",
        "    layers.Conv2D(128, (3, 3), activation='relu'),\n",
        "    layers.MaxPooling2D((2, 2)),\n",
        "    layers.Flatten(),\n",
        "    layers.Dense(512, activation='relu'),\n",
        "    layers.Dropout(0.5),\n",
        "    layers.Dense(1, activation='sigmoid')\n",
        "])\n",
        "\n",
        "\n",
        "model.compile(optimizer='adam',\n",
        "              loss='binary_crossentropy',\n",
        "              metrics=['accuracy'])\n",
        "\n",
        "model.summary()\n",
        "\n",
        "\n",
        "history = model.fit(\n",
        "    train_generator,\n",
        "    epochs=epochs,\n",
        "    validation_data=validation_generator\n",
        ")\n",
        "\n",
        "model.save(\"aadhar_fraud_detection_model.keras\")"
      ]
    },
    {
      "cell_type": "code",
      "execution_count": null,
      "metadata": {
        "id": "2UiIhaL46FXC"
      },
      "outputs": [],
      "source": [
        "test_dataset_path = \"/content/drive/MyDrive/test\"\n",
        "\n",
        "test_datagen = ImageDataGenerator(\n",
        "    rescale=1./255\n",
        ")\n",
        "\n",
        "test_generator = test_datagen.flow_from_directory(\n",
        "    test_dataset_path,\n",
        "    target_size=(img_height, img_width),\n",
        "    batch_size=batch_size,\n",
        "    class_mode='binary',\n",
        "    shuffle=False\n",
        ")\n",
        "\n",
        "\n",
        "model = tf.keras.models.load_model(\"aadhar_fraud_detection_model.keras\")\n",
        "\n",
        "test_loss, test_accuracy = model.evaluate(test_generator)\n",
        "print(f\"Test Accuracy: {test_accuracy*100:.2f}%\")\n",
        "\n",
        "test_predictions = model.predict(test_generator)\n",
        "test_predictions = (test_predictions > 0.5).astype(int)\n",
        "\n",
        "true_labels = test_generator.classes\n",
        "\n",
        "report = classification_report(true_labels, test_predictions, target_names=['Real', 'Fake'], output_dict=True)\n",
        "\n",
        "cm = confusion_matrix(true_labels, test_predictions)\n",
        "cm_df = pd.DataFrame(cm, index=['Real', 'Fake'], columns=['Real', 'Fake'])\n",
        "\n",
        "print(\"Confusion Matrix:\")\n",
        "print(cm_df)\n"
      ]
    },
    {
      "cell_type": "code",
      "execution_count": null,
      "metadata": {
        "id": "fEsLFzQhMjaY"
      },
      "outputs": [],
      "source": [
        "uploaded = files.upload()\n",
        "filename = next(iter(uploaded.keys()))\n",
        "print(f'Uploaded file: {filename}')\n",
        "\n",
        "image = Image.open(filename)"
      ]
    },
    {
      "cell_type": "code",
      "execution_count": null,
      "metadata": {
        "id": "JIcuGh-fMqYs"
      },
      "outputs": [],
      "source": [
        "image = Image.open(io.BytesIO(uploaded[filename]))\n",
        "\n",
        "image_np = np.array(image)\n",
        "\n",
        "reader = easyocr.Reader(['en', 'hi'])\n"
      ]
    },
    {
      "cell_type": "code",
      "execution_count": null,
      "metadata": {
        "id": "Po6hAP2TUxTJ"
      },
      "outputs": [],
      "source": [
        "results = reader.readtext(image_np)\n",
        "\n",
        "for result in results:\n",
        "    print(result[1])\n",
        "\n",
        "image_rgb = image.convert('RGB')\n",
        "plt.imshow(image_rgb)\n",
        "plt.axis('off')\n",
        "plt.show()"
      ]
    },
    {
      "cell_type": "code",
      "execution_count": null,
      "metadata": {
        "id": "VsAIpkK_MqcQ"
      },
      "outputs": [],
      "source": [
        "def detect_anomalies(text):\n",
        "    anomalies = []\n",
        "    name_pattern = r'(?:[^\\n]+(?:\\n+)?){0,2}[A-Za-zअ-ह]+\\s[A-Za-zअ-ह]+'\n",
        "    dob_pattern = r'\\s*\\d{2}[-/.]\\d{2}[-/.]\\d{4}'\n",
        "    gender_pattern = r'\\b(?:महिला|पुरुष|FEMALE|MALE|Female|Male)\\b'\n",
        "    aadhaar_pattern = r'\\b\\d{4}\\s?\\d{4}\\s?\\d{4}\\b'\n",
        "\n",
        "    if not re.search(name_pattern, text):\n",
        "        anomalies.append(\"Missing or incorrect name format\")\n",
        "\n",
        "    if not re.search(dob_pattern, text):\n",
        "        anomalies.append(\"Missing or incorrect date of birth format\")\n",
        "\n",
        "    if not re.search(gender_pattern, text):\n",
        "        anomalies.append(\"Missing or incorrect gender format\")\n",
        "\n",
        "    if not re.search(aadhaar_pattern, text):\n",
        "        anomalies.append(\"Missing or incorrect Aadhaar number format\")\n",
        "\n",
        "    return anomalies"
      ]
    },
    {
      "cell_type": "code",
      "execution_count": null,
      "metadata": {
        "id": "VAIcOsVrMs5l"
      },
      "outputs": [],
      "source": [
        "model = tf.keras.models.load_model(\"aadhar_fraud_detection_model.keras\")"
      ]
    },
    {
      "cell_type": "code",
      "execution_count": null,
      "metadata": {
        "id": "GXbcZRlrt9FG"
      },
      "outputs": [],
      "source": [
        "def check_user_data(text):\n",
        "    user_name = input(\"Enter the full name on the Aadhaar card: \").strip()\n",
        "    user_dob = input(\"Enter the Date of Birth (DD/MM/YYYY): \").strip()\n",
        "    user_gender = input(\"Enter the gender (MALE/FEMALE): \").strip()\n",
        "    user_aadhaar = input(\"Enter the 12-digit Aadhaar number (XXXX XXXX XXXX): \").strip()\n",
        "\n",
        "    print(\"\\n\")\n",
        "\n",
        "    normalized_text = re.sub(r'\\s+', ' ', text).strip().lower()\n",
        "    user_name_normalized = re.sub(r'\\s+', ' ', user_name).strip().lower()\n",
        "    user_dob_normalized = re.sub(r'\\s+', ' ', user_dob).strip().lower()\n",
        "    user_gender_normalized = re.sub(r'\\s+', ' ', user_gender).strip().lower()\n",
        "    user_aadhaar_normalized = re.sub(r'\\s+', ' ', user_aadhaar).strip().lower()\n",
        "\n",
        "    user_matches = True\n",
        "    if user_name_normalized not in normalized_text:\n",
        "        print(\"Entered name does not match Aadhaar card details.\")\n",
        "        user_matches = False\n",
        "    if user_dob_normalized not in normalized_text:\n",
        "        print(\"Entered Date of Birth does not match Aadhaar card details.\")\n",
        "        user_matches = False\n",
        "    if user_gender_normalized not in normalized_text:\n",
        "        print(\"Entered gender does not match Aadhaar card details.\")\n",
        "        user_matches = False\n",
        "    if user_aadhaar_normalized not in normalized_text:\n",
        "        print(\"Entered Aadhaar number does not match Aadhaar card details.\")\n",
        "        user_matches = False\n",
        "\n",
        "    if user_matches:\n",
        "        print(\"User data matches the Aadhaar card details.\")\n",
        "    return user_matches"
      ]
    },
    {
      "cell_type": "code",
      "execution_count": null,
      "metadata": {
        "id": "COTzolSGfZcB"
      },
      "outputs": [],
      "source": [
        "def detect_faces_in_image(filename):\n",
        "\n",
        "    image = Image.open(filename)\n",
        "    image = image.convert('RGB')\n",
        "\n",
        "    image_np = np.array(image)\n",
        "    image_cv = cv2.cvtColor(image_np, cv2.COLOR_RGB2BGR)\n",
        "\n",
        "    face_cascade = cv2.CascadeClassifier(cv2.data.haarcascades + 'haarcascade_frontalface_default.xml')\n",
        "\n",
        "    gray = cv2.cvtColor(image_cv, cv2.COLOR_BGR2GRAY)\n",
        "\n",
        "    faces = face_cascade.detectMultiScale(gray, scaleFactor=1.1, minNeighbors=5, minSize=(30, 30))\n",
        "\n",
        "    for (x, y, w, h) in faces:\n",
        "        cv2.rectangle(image_cv, (x, y), (x+w, y+h), (255, 0, 0), 2)\n",
        "\n",
        "    image_with_faces = Image.fromarray(cv2.cvtColor(image_cv, cv2.COLOR_BGR2RGB))\n",
        "    return image_with_faces, faces\n",
        "\n",
        "def save_detected_faces(filename, output_folder):\n",
        "\n",
        "    image_with_faces, faces = detect_faces_in_image(filename)\n",
        "\n",
        "    image = Image.open(filename)\n",
        "    image = image.convert('RGB')\n",
        "    image_np = np.array(image)\n",
        "    image_cv = cv2.cvtColor(image_np, cv2.COLOR_RGB2BGR)\n",
        "\n",
        "    if not os.path.exists(output_folder):\n",
        "        os.makedirs(output_folder)\n",
        "\n",
        "    for i, (x, y, w, h) in enumerate(faces):\n",
        "        face_image = image_cv[y:y+h, x:x+w]\n",
        "\n",
        "        face_image_pil = Image.fromarray(cv2.cvtColor(face_image, cv2.COLOR_BGR2RGB))\n",
        "\n",
        "        face_image_pil.save(os.path.join(output_folder, f\"face_{i+1}.jpg\"))\n"
      ]
    },
    {
      "cell_type": "code",
      "execution_count": null,
      "metadata": {
        "id": "HA5Pcu2efZng"
      },
      "outputs": [],
      "source": [
        "def preprocess_image_for_face_recognition(image_path):\n",
        "\n",
        "    image = cv2.imread(image_path)\n",
        "\n",
        "    if image is None:\n",
        "        raise ValueError(f\"Image at {image_path} could not be loaded.\")\n",
        "\n",
        "    image_rgb = cv2.cvtColor(image, cv2.COLOR_BGR2RGB)\n",
        "\n",
        "    return image_rgb\n",
        "\n",
        "def get_face_encoding(image_rgb):\n",
        "\n",
        "    face_encodings = face_recognition.face_encodings(image_rgb)\n",
        "    if len(face_encodings) == 0:\n",
        "        raise ValueError(\"No faces found in the image.\")\n",
        "    return face_encodings[0]\n",
        "\n",
        "def compare_photos():\n",
        "    \"\"\"\n",
        "    Compares an Aadhaar photo with a user-uploaded photo.\n",
        "    \"\"\"\n",
        "    aadhaar_photo_filename = '/content/output_folder/face_1.jpg'\n",
        "    aadhaar_photo_rgb = preprocess_image_for_face_recognition(aadhaar_photo_filename)\n",
        "\n",
        "    aadhaar_face_encoding = get_face_encoding(aadhaar_photo_rgb)\n",
        "\n",
        "    print(\"Please upload a photo of yourself for comparison.\")\n",
        "    uploaded_photo = files.upload()\n",
        "    user_photo_filename = next(iter(uploaded_photo.keys()))\n",
        "\n",
        "    user_photo_rgb = preprocess_image_for_face_recognition(user_photo_filename)\n",
        "\n",
        "    user_face_encoding = get_face_encoding(user_photo_rgb)\n",
        "\n",
        "    results = face_recognition.compare_faces([aadhaar_face_encoding], user_face_encoding)\n",
        "    if results[0]:\n",
        "        print(\"The user-uploaded photo matches the Aadhaar card photo.\")\n",
        "    else:\n",
        "        print(\"The user-uploaded photo does not match the Aadhaar card photo.\")"
      ]
    },
    {
      "cell_type": "code",
      "execution_count": null,
      "metadata": {
        "id": "53tqu4t7uFmm"
      },
      "outputs": [],
      "source": [
        "def preprocess_image(image_path):\n",
        "    image = cv2.imread(image_path)\n",
        "    if image is None:\n",
        "        raise ValueError(f\"Image at {image_path} could not be loaded.\")\n",
        "    image = cv2.resize(image, (256, 256))\n",
        "    image = image / 255.0\n",
        "    image = np.reshape(image, (1, 256, 256, 3))\n",
        "    return image\n",
        "\n",
        "test_image_path = filename\n",
        "\n",
        "test_image = preprocess_image(test_image_path)\n",
        "\n",
        "if 'results' not in globals():\n",
        "    raise ValueError(\"OCR results are not defined.\")\n",
        "\n",
        "text = \" \".join(result[1] for result in results)\n",
        "\n",
        "\n",
        "anomalies = detect_anomalies(text)\n",
        "\n",
        "print(\"\\nDetected Anomalies:\")\n",
        "for anomaly in anomalies:\n",
        "    print(f\"- {anomaly}\")\n",
        "\n",
        "prediction = model.predict(test_image)\n",
        "print(f\"\\nModel Prediction: {prediction}\")\n",
        "\n",
        "if prediction >= 0.5:\n",
        "    print(\"The Aadhaar card is likely to be FAKE.\")\n",
        "else:\n",
        "    print(\"The Aadhaar card is likely to be REAL.\")\n",
        "    print(\"\\n\")\n",
        "    if not anomalies:\n",
        "        print(\"No anomalies detected. Proceeding with user data check.\")\n",
        "        check_user_data(text)\n",
        "    else:\n",
        "        print(\"Anomalies detected in the Aadhaar card data:\")\n",
        "        for anomaly in anomalies:\n",
        "            print(f\"- {anomaly}\")\n",
        "\n",
        "print(\"Proceed with photo verification.\")\n",
        "\n",
        "output_folder = '/content/output_folder'\n",
        "\n",
        "detect_faces_in_image(filename)\n",
        "save_detected_faces(filename, output_folder)\n",
        "compare_photos()"
      ]
    }
  ],
  "metadata": {
    "accelerator": "GPU",
    "colab": {
      "gpuType": "T4",
      "provenance": [],
      "include_colab_link": true
    },
    "kernelspec": {
      "display_name": "Python 3",
      "name": "python3"
    },
    "language_info": {
      "name": "python"
    }
  },
  "nbformat": 4,
  "nbformat_minor": 0
}